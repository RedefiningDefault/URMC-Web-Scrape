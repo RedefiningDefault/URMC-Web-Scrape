{
 "cells": [
  {
   "cell_type": "markdown",
   "metadata": {},
   "source": [
    "## For assistancing updating or fixing this notebook, please contact:\n",
    "### Redefining Default LLC\n",
    "www.redefining-default.com\n",
    "<br>\n",
    "kirsten@redefining-default.com\n",
    "<br>\n",
    "571-510-0139"
   ]
  },
  {
   "cell_type": "code",
   "execution_count": 27,
   "metadata": {},
   "outputs": [],
   "source": [
    "from selenium import webdriver #to navigate to url\n",
    "from bs4 import BeautifulSoup #to parse html\n",
    "import re #regex to search by wildcards using re.compile within html\n",
    "import pandas as pd #to make dataframe and write to csv\n",
    "import datetime #to create a timestamp on CSV exports for version control\n",
    "import unicodedata #to fix character encoding errors to improve human readability\n",
    "import numpy as np #to get unique list values\n",
    "import glob #to find all CSV files in current directory\n",
    "import os #to get filepath of CSV file"
   ]
  },
  {
   "cell_type": "code",
   "execution_count": 28,
   "metadata": {},
   "outputs": [],
   "source": [
    "#Site to be scraped\n",
    "base_url = 'https://www.urmc.rochester.edu/urm-labs/service-centers.aspx'"
   ]
  },
  {
   "cell_type": "code",
   "execution_count": 29,
   "metadata": {},
   "outputs": [],
   "source": [
    "#Open Firefox and get website\n",
    "driver = webdriver.Firefox()\n",
    "driver.implicitly_wait(30)\n",
    "driver.get(base_url)"
   ]
  },
  {
   "cell_type": "code",
   "execution_count": 30,
   "metadata": {},
   "outputs": [],
   "source": [
    "#Parse entire page\n",
    "basesoup = BeautifulSoup(driver.page_source, \"html.parser\")"
   ]
  },
  {
   "cell_type": "code",
   "execution_count": 31,
   "metadata": {},
   "outputs": [],
   "source": [
    "#Extract Lab IDs as common key between selectors\n",
    "labs = []  #Create a list to store IDs\n",
    "all_div = basesoup.find_all(\"div\", {\"class\": \"location-details\"})\n",
    "for div in all_div:\n",
    "    labs.append(div.find(\"h2\").get(\"id\"))"
   ]
  },
  {
   "cell_type": "code",
   "execution_count": 32,
   "metadata": {},
   "outputs": [
    {
     "name": "stdout",
     "output_type": "stream",
     "text": [
      "Everything is as expected. No change in number of labs since originally set up.\n"
     ]
    }
   ],
   "source": [
    "#Unit Test: How many Lab IDs are there?\n",
    "CountLabs = len(labs)\n",
    "if CountLabs < 30:\n",
    "    print('Note: ',30-CountLabs,' fewer lab(s) then when originally set up.')\n",
    "elif CountLabs > 30:\n",
    "    print('Note: ',CountLabs-30, ' more lab(s) then when originally set up.')\n",
    "elif CountLabs == 30:\n",
    "    print('Everything is as expected. No change in number of labs since originally set up.')"
   ]
  },
  {
   "cell_type": "code",
   "execution_count": 33,
   "metadata": {},
   "outputs": [],
   "source": [
    "#Find Lab Location Names\n",
    "names = {}  #Create a dictionary to store ID and Names as key:value pairs\n",
    "for div in all_div:\n",
    "    i = all_div.index(div)\n",
    "    names.update({div.find(\"h2\").get(\"id\"):div.find(\"h2\").text.strip()})"
   ]
  },
  {
   "cell_type": "code",
   "execution_count": 34,
   "metadata": {},
   "outputs": [
    {
     "name": "stdout",
     "output_type": "stream",
     "text": [
      "Everything is as expected.\n"
     ]
    }
   ],
   "source": [
    "#Unit Test: Do the number of Lab Names match the number of IDs?\n",
    "CountNames = len(names)\n",
    "if not (CountNames == CountLabs):\n",
    "    if (CountNames > CountLabs):\n",
    "        greater = 'Names'\n",
    "        fewer = 'Lab IDs'\n",
    "    else:\n",
    "        greater = 'Lab IDs'\n",
    "        fewer = 'Names'\n",
    "    print(\"WARNING: There are more \",greater,\" than \",fewer)\n",
    "else:\n",
    "    print(\"Everything is as expected.\")"
   ]
  },
  {
   "cell_type": "code",
   "execution_count": 35,
   "metadata": {},
   "outputs": [],
   "source": [
    "#Find Hospital Association\n",
    "associated = {}  #Create a dictionary to store ID and Associations as key:value pairs\n",
    "all_legal = basesoup.find_all(\"p\", {\"class\": \"legal\"})\n",
    "for p in all_legal:\n",
    "    associated.update({p.previous_sibling.get(\"id\"):p.text})"
   ]
  },
  {
   "cell_type": "code",
   "execution_count": 36,
   "metadata": {},
   "outputs": [
    {
     "name": "stdout",
     "output_type": "stream",
     "text": [
      "Everything is as expected.\n"
     ]
    }
   ],
   "source": [
    "#Unit Test: Do the number of Associated Hospitals match the number of IDs?\n",
    "CountHospitals = len(associated)\n",
    "if not (CountHospitals == CountLabs):\n",
    "    if (CountHospitals > CountLabs):\n",
    "        greater = 'Hospitals'\n",
    "        fewer = 'Lab IDs'\n",
    "    else:\n",
    "        greater = 'Lab IDs'\n",
    "        fewer = 'Hospitals'\n",
    "    print(\"WARNING: There are more \",greater,\" than \",fewer)\n",
    "else:\n",
    "    print(\"Everything is as expected.\")"
   ]
  },
  {
   "cell_type": "code",
   "execution_count": 37,
   "metadata": {},
   "outputs": [],
   "source": [
    "#Define Function to parse Addresses into human readable text and format\n",
    "def text_with_newlines(elem):\n",
    "    text = ''\n",
    "    for e in elem.descendants:\n",
    "        if isinstance(e, str):\n",
    "            text += e.strip()\n",
    "        elif e.name == 'br':\n",
    "            text += '\\n'\n",
    "    return text"
   ]
  },
  {
   "cell_type": "code",
   "execution_count": 38,
   "metadata": {},
   "outputs": [],
   "source": [
    "#Find Addresses\n",
    "address = {}  #Create a dictionary to store ID and Addresses as key:value pairs\n",
    "all_addresses = [p.findNext('p') for p in all_legal]\n",
    "for s in all_addresses:\n",
    "    trans = text_with_newlines(s)\n",
    "    trans2 = re.sub(r'\\([^()]*\\)', ' ',trans) #remove parantheses and everything inside\n",
    "    trans3 = trans2.replace(\"Get Directions\", \"\") #remove 'Get Directions'\n",
    "    trans4 = re.sub('\\n +', ' ',trans3) #remove return and extra spaces to just one space\n",
    "    trans5 = re.sub(' +', ' ', trans4)\n",
    "    address.update({s.previous_sibling.previous_sibling.get(\"id\"):trans5})"
   ]
  },
  {
   "cell_type": "code",
   "execution_count": 39,
   "metadata": {},
   "outputs": [
    {
     "name": "stdout",
     "output_type": "stream",
     "text": [
      "Everything is as expected.\n"
     ]
    }
   ],
   "source": [
    "#Unit Test: Do the number of Addresses match the number of IDs?\n",
    "CountAddresses = len(address)\n",
    "if not (CountAddresses == CountLabs):\n",
    "    if (CountAddresses > CountLabs):\n",
    "        greater = 'Addresses'\n",
    "        fewer = 'Lab IDs'\n",
    "    else:\n",
    "        greater = 'Lab IDs'\n",
    "        fewer = 'Addresses'\n",
    "    print(\"WARNING: There are more \",greater,\" than \",fewer)\n",
    "else:\n",
    "    print(\"Everything is as expected.\")"
   ]
  },
  {
   "cell_type": "code",
   "execution_count": 40,
   "metadata": {},
   "outputs": [
    {
     "name": "stdout",
     "output_type": "stream",
     "text": [
      "No new days have been found. Everything is as expected.\n"
     ]
    }
   ],
   "source": [
    "#Unit Test: Have the possible combinations of Opening Days changed?\n",
    "current_days = ['M-F:', 'Mon - Fri:', 'F:','M-TH:','Sat:','Sat.:','Sun:','Mon & Tues:','Mon & Thu:','Wed & Fri:']\n",
    "day_options1 = ['M-TH:','Sat:','Sat.:','Sun:','Mon & Tues:','Mon & Thu:','Wed & Fri:']\n",
    "days = []\n",
    "all_days = basesoup.find_all(\"strong\")\n",
    "for s in all_days:\n",
    "    normalized = unicodedata.normalize('NFKC',s.text)  #get bold days text and normalize\n",
    "    trans1 = re.sub(r'[\\t\\r\\n]', ' ', normalized)  #remove break\n",
    "    trans2 = re.sub(' +', ' ',trans1.strip())  #replace extra spaces with just one space\n",
    "    days.append(trans2)\n",
    "days.remove('Coronavirus (COVID-19):')\n",
    "days.remove('Please Note:')\n",
    "new_days = np.unique(np.array(days))\n",
    "list(new_days)\n",
    "diff = list(set(new_days) - set(current_days))\n",
    "if diff:\n",
    "    for i in diff:\n",
    "        day_options1.append(i)\n",
    "        print('A new day, ',i,' was detected and added to day_options1. This could indicate a larger change in the HTML structure of the page. Manual check recommended.')\n",
    "else:\n",
    "    print('No new days have been found. Everything is as expected.')"
   ]
  },
  {
   "cell_type": "code",
   "execution_count": 41,
   "metadata": {},
   "outputs": [],
   "source": [
    "#Find Hours\n",
    "lab_hours = {}  #Create a dictionary to store ID and Hours as key:value pairs\n",
    "for lab in labs:\n",
    "    hours_list = []  #Create a temporary list to store hours for a each lab\n",
    "    if basesoup.find(\"h2\",{\"id\":lab}).next_sibling.next_sibling.next_sibling.find(string=re.compile('M-F:')):\n",
    "        hours = basesoup.find(\"h2\",{\"id\":lab}).next_sibling.next_sibling.next_sibling.find(string=re.compile('M-F:')).findNext('span').text\n",
    "        hours2 = unicodedata.normalize('NFKC',hours)\n",
    "        hours3 = re.sub(' +', ' ',hours2)\n",
    "        hours4 = re.sub(r'[\\t\\r\\n]', '', hours3)\n",
    "        hours_list.append('M-F: '+hours4+'\\n')\n",
    "    elif basesoup.find(\"h2\",{\"id\":lab}).next_sibling.next_sibling.next_sibling.find(string=re.compile('Mon - Fri:')):\n",
    "        hours = basesoup.find(\"h2\",{\"id\":lab}).next_sibling.next_sibling.next_sibling.find(string=re.compile('Mon - Fri:')).findNext('span').text\n",
    "        hours2 = unicodedata.normalize('NFKC',hours)\n",
    "        hours3 = re.sub(' +', ' ',hours2)\n",
    "        hours4 = re.sub(r'[\\t\\r\\n]', '', hours3)\n",
    "        hours_list.append('M-F: '+hours4+'\\n')\n",
    "    elif basesoup.find(\"h2\",{\"id\":lab}).next_sibling.next_sibling.next_sibling.find(string=re.compile('F:')):\n",
    "        hours = basesoup.find(\"h2\",{\"id\":lab}).next_sibling.next_sibling.next_sibling.find(string=re.compile('F:')).findNext('span').text\n",
    "        hours2 = unicodedata.normalize('NFKC',hours)\n",
    "        hours3 = re.sub(' +', ' ',hours2)\n",
    "        hours4 = re.sub(r'[\\t\\r\\n]', '', hours3)\n",
    "        hours_list.append('F: '+hours4+'\\n')\n",
    "    for day in day_options1:\n",
    "        #daymatch = \"r'^\"+day+\"$'\"\n",
    "        if basesoup.find(\"h2\",{\"id\":lab}).next_sibling.next_sibling.next_sibling.find(string=re.compile(day)):\n",
    "            match = basesoup.find(\"h2\",{\"id\":lab}).next_sibling.next_sibling.next_sibling.find(string=re.compile(day)).findNext('span').text\n",
    "            match2 = unicodedata.normalize('NFKC',match)\n",
    "            match3 = re.sub(' +', ' ',match2)\n",
    "            match4 = re.sub(r'[\\t\\r\\n]', '', match3)\n",
    "            hours_list.append(day+' '+match4+'\\n')\n",
    "    #get 'Closed for Lunch'\n",
    "    if basesoup.find(\"h2\",{\"id\":lab}).next_sibling.next_sibling.next_sibling.find('span',{'class':'text-red'}):\n",
    "        closed = basesoup.find(\"h2\",{\"id\":lab}).findNext('span',{'class':'text-red'}).text\n",
    "        closed2 = unicodedata.normalize('NFKC',closed)\n",
    "        closed3 = re.search(r'Closed for Lunch:\\s(.*)', closed2).group(1) # get just the hours after 'Closed for Lunch:'\n",
    "        hours_list.append('Closed for Lunch:'+closed3)\n",
    "    hours_string = ''.join(hours_list)\n",
    "    lab_hours.update({lab:hours_string})"
   ]
  },
  {
   "cell_type": "code",
   "execution_count": 42,
   "metadata": {},
   "outputs": [
    {
     "name": "stdout",
     "output_type": "stream",
     "text": [
      "Everything is as expected.\n"
     ]
    }
   ],
   "source": [
    "#Unit Test: Does each Lab have Office Hours?\n",
    "CountHours = len(lab_hours)\n",
    "if not (CountHours == CountLabs):\n",
    "    if (CountHours > CountLabs):\n",
    "        greater = 'Addresses'\n",
    "        fewer = 'Lab IDs'\n",
    "    else:\n",
    "        greater = 'Lab IDs'\n",
    "        fewer = 'Addresses'\n",
    "    print(\"WARNING: There are more \",greater,\" than \",fewer)\n",
    "else:\n",
    "    print(\"Everything is as expected.\")"
   ]
  },
  {
   "cell_type": "code",
   "execution_count": 43,
   "metadata": {},
   "outputs": [],
   "source": [
    "#Find 'Get Directions' links\n",
    "links = {}  #Create a dictionary to store ID and links as key:value pairs\n",
    "for lab in labs:\n",
    "    link = basesoup.find(\"h2\",{\"id\":lab}).findNext(\"a\").get(\"href\")\n",
    "    link2 = re.escape(\"=HYPERLINK\")+'(\"'+link+'\",\"Get Directions\")' #Format link so CSV recognizes it as a hyperlink\n",
    "    links.update({lab:link2})"
   ]
  },
  {
   "cell_type": "code",
   "execution_count": 44,
   "metadata": {},
   "outputs": [
    {
     "name": "stdout",
     "output_type": "stream",
     "text": [
      "Everything is as expected.\n"
     ]
    }
   ],
   "source": [
    "#Unit Test: Does each Lab have a Link for Directions?\n",
    "CountLinks = len(links)\n",
    "if not (CountLinks == CountLabs):\n",
    "    if (CountLinks > CountLabs):\n",
    "        greater = 'Links'\n",
    "        fewer = 'Lab IDs'\n",
    "    else:\n",
    "        greater = 'Lab IDs'\n",
    "        fewer = 'Links'\n",
    "    print(\"WARNING: There are more \",greater,\" than \",fewer)\n",
    "else:\n",
    "    print(\"Everything is as expected.\")"
   ]
  },
  {
   "cell_type": "code",
   "execution_count": 45,
   "metadata": {},
   "outputs": [],
   "source": [
    "#Combine the dictionaries on ID\n",
    "labsdict = {'Name':names, 'Associated': associated, 'Address': address, 'Lab Hours': lab_hours, 'Google Map Directions':links}"
   ]
  },
  {
   "cell_type": "code",
   "execution_count": 46,
   "metadata": {},
   "outputs": [],
   "source": [
    "#Transform the dictionary into a dataframe\n",
    "LabLocations = pd.DataFrame(labsdict)"
   ]
  },
  {
   "cell_type": "code",
   "execution_count": 47,
   "metadata": {},
   "outputs": [
    {
     "name": "stdout",
     "output_type": "stream",
     "text": [
      "No changes from:  2021-09-14 13:00_LabLocations.csv\n"
     ]
    }
   ],
   "source": [
    "#Check for Changes. Check current DataFrame against last run's exported CSV file\n",
    "list_of_files = glob.glob('*.csv') #Find all CSV files in current directory\n",
    "if not list_of_files: #Check that a previous CSV file exists in the directory\n",
    "    print('WARNING: No CSV files were located in the current directory to compare with new run.')\n",
    "else: \n",
    "    last_file = max(list_of_files, key=os.path.getctime) #get most recent CSV file\n",
    "    lastDF = pd.read_csv(last_file,index_col = 'Unnamed: 0') #read that CSV file in as a DataFrame and set index\n",
    "    differences = LabLocations.compare(lastDF, align_axis = 0) #look for differences between the current DataFrame and last DataFrame\n",
    "    #Check if anything has changed since last time and flag changes\n",
    "    if differences.empty:\n",
    "        print('No changes from: ',last_file)\n",
    "    else:\n",
    "        differences.index.set_levels(['New','Old'],level=1,inplace=True) #Rename row labels for readability\n",
    "        columns = []\n",
    "        [columns.append(col) for col in differences.columns]\n",
    "        print(\"Changes from last time are:\")\n",
    "        for i in columns:\n",
    "            for item, frame in differences[i].iteritems():\n",
    "                if pd.notnull(frame):\n",
    "                    print(item,\": \",frame)"
   ]
  },
  {
   "cell_type": "code",
   "execution_count": 48,
   "metadata": {},
   "outputs": [],
   "source": [
    "#Export DataFrame to a CSV file\n",
    "LabLocations.to_csv(datetime.datetime.now().strftime(\"%Y-%m-%d %H:%M\"+\"_LabLocations.csv\"))"
   ]
  },
  {
   "cell_type": "code",
   "execution_count": 49,
   "metadata": {},
   "outputs": [],
   "source": [
    "#Close the selenium browser\n",
    "driver.close()\n",
    "driver.quit()"
   ]
  },
  {
   "cell_type": "markdown",
   "metadata": {},
   "source": [
    "## MIT License\n",
    "### Copyright (c) 2021 Redefining Default LLC\n",
    "Permission is hereby granted, free of charge, to any person obtaining a copy\n",
    "of this software and associated documentation files (the \"Software\"), to deal\n",
    "in the Software without restriction, including without limitation the rights\n",
    "to use, copy, modify, merge, publish, distribute, sublicense, and/or sell\n",
    "copies of the Software, and to permit persons to whom the Software is\n",
    "furnished to do so, subject to the following conditions:\n",
    "\n",
    "The above copyright notice and this permission notice shall be included in all\n",
    "copies or substantial portions of the Software.\n",
    "\n",
    "THE SOFTWARE IS PROVIDED \"AS IS\", WITHOUT WARRANTY OF ANY KIND, EXPRESS OR\n",
    "IMPLIED, INCLUDING BUT NOT LIMITED TO THE WARRANTIES OF MERCHANTABILITY,\n",
    "FITNESS FOR A PARTICULAR PURPOSE AND NONINFRINGEMENT. IN NO EVENT SHALL THE\n",
    "AUTHORS OR COPYRIGHT HOLDERS BE LIABLE FOR ANY CLAIM, DAMAGES OR OTHER\n",
    "LIABILITY, WHETHER IN AN ACTION OF CONTRACT, TORT OR OTHERWISE, ARISING FROM,\n",
    "OUT OF OR IN CONNECTION WITH THE SOFTWARE OR THE USE OR OTHER DEALINGS IN THE\n",
    "SOFTWARE."
   ]
  },
  {
   "cell_type": "code",
   "execution_count": null,
   "metadata": {},
   "outputs": [],
   "source": []
  }
 ],
 "metadata": {
  "kernelspec": {
   "display_name": "Python 3 (ipykernel)",
   "language": "python",
   "name": "python3"
  },
  "language_info": {
   "codemirror_mode": {
    "name": "ipython",
    "version": 3
   },
   "file_extension": ".py",
   "mimetype": "text/x-python",
   "name": "python",
   "nbconvert_exporter": "python",
   "pygments_lexer": "ipython3",
   "version": "3.9.6"
  }
 },
 "nbformat": 4,
 "nbformat_minor": 4
}
